{
 "cells": [
  {
   "cell_type": "code",
   "execution_count": null,
   "id": "0bab98a5-6760-40e6-ad41-839c531498a5",
   "metadata": {},
   "outputs": [],
   "source": [
    "#1 What is Python, and why is it popular?\n",
    "# answer :\n",
    "\"\"\"\n",
    "\n",
    "python is a high-level programming language known for its simplicity, readability, and versatility. \n",
    "1. Simple and readable syntax, Python code looks like plain English. easy to learn for beginners.\n",
    "2. Versatile, used in many domains:like data science (pandas, numpy,matplotlib), game development and automation.\n",
    "3. large standard library built in modules for math, web, databasesetc, etc.\n",
    "summary: easy to write + powerful + widely used.\n",
    "\n",
    "\n",
    "\"\"\""
   ]
  },
  {
   "cell_type": "markdown",
   "id": "6349401e-113c-486b-a4a2-9254c7b2c444",
   "metadata": {},
   "source": [
    "#2 What is an interpreter in Python?\n",
    "\"\"\"\n",
    "Answer: An interpreter in Python is a program that reads, parses, and executes Python code line by line\n",
    "rather than compiling it all at once into machine code like in C and Java.\n"
   ]
  },
  {
   "cell_type": "code",
   "execution_count": null,
   "id": "f6bb3c89-b9de-4151-84f8-574fb0facff9",
   "metadata": {},
   "outputs": [],
   "source": [
    "#3 What are pre-defined keywords in Python ?\n",
    "\"\"\"\n",
    "answer: Pre-defined keywords in Python are reserved words that have special meaning in the language. we cannot use them as variable names, function names, \n",
    "or identifiers because they are used to define the syntax and structure of Python code. examples: if , elif, else, true, false, none,etc and, or"
   ]
  },
  {
   "cell_type": "code",
   "execution_count": null,
   "id": "b2d461f2-91d6-49e3-bcbd-26cdfaa80cfa",
   "metadata": {},
   "outputs": [],
   "source": [
    "#4 can keywords be used as variable names?\n",
    "\"\"\"\n",
    "No, keywords cannot be used as variable names in Python.\n",
    "example: class = \"physics\"\n",
    "instead of this : we have to use \n",
    "subject= \"physics\"   # valid "
   ]
  },
  {
   "cell_type": "code",
   "execution_count": null,
   "id": "1cb0b2e4-f76a-455d-8349-053dcca9a3d5",
   "metadata": {},
   "outputs": [],
   "source": [
    "#5 What is mutability in Python?\n",
    "\"\"\"\n",
    "Mutability refers to whether an object in Python can be changed after it is created.ex: list,dist, set, etc\n",
    "\n",
    "\n"
   ]
  },
  {
   "cell_type": "code",
   "execution_count": null,
   "id": "6542b408-ec6c-4864-be84-37c356fb3cdd",
   "metadata": {},
   "outputs": [],
   "source": [
    "#why are lists mutable, but tuples are immutable?\n",
    "\"\"\"\n",
    "lists can be changed (mutable)\n",
    "becoz\n",
    "1 They are made to hold data that might change later.\n",
    "You can add, remove,or update items in a list.\n",
    "\n",
    "my-list = [1,2,3]\n",
    "my-list[0] # you can change the first item\n",
    "my-list.append(4)   # you can add a new item\n",
    "\n",
    "tuples cannot be changed immutable because:\n",
    "\n",
    "They are made to hold data that should stay the same.\n",
    "once you create a tuple , you can't add, remove,or change any item.\n",
    "\n",
    "\n",
    "\n"
   ]
  },
  {
   "cell_type": "code",
   "execution_count": null,
   "id": "d1328dd7-6a2a-4deb-885f-abc9905e3d5e",
   "metadata": {},
   "outputs": [],
   "source": [
    "7#what is the differernce between \"==\" and \"is\" operator in python?\n",
    "\n",
    "\n",
    "\"\"\"\n",
    "== checks if two values are equal \n",
    "example:\n",
    "a = [1,2,3]\n",
    "b = [1,2,3]\n",
    "print (a==b) # true because a and b are the same\n",
    "\n",
    "is check if two varible point to the same object in memory\n",
    "it compares the identity wheather they are the exact same object.\n",
    "\n",
    "\n",
    "a = [1,2,3]\n",
    "b = [1,2,3]\n",
    "\n",
    "print (a is b )   # false becoz a and b are two different objects in memory "
   ]
  },
  {
   "cell_type": "code",
   "execution_count": null,
   "id": "a6b5c8f0-81e1-46e0-bff6-cfb597618e50",
   "metadata": {},
   "outputs": [],
   "source": [
    "# What are the logical operators in Python\n",
    "\"\"\"\n",
    "\n",
    "there are three main logical operators:\n",
    "1 AND \n",
    "Returns TRUE if both statements are TRUE\n",
    " x = 5\n",
    " print(x < 2 or x < 10) # true\n",
    "\n",
    "\n",
    " 2 OR\n",
    "  Returns TRUE if at least one of the statements is true.\n",
    "\n",
    "  3 NOT \n",
    "  REVERSES THE RESULT returns false if the statement is true and true if it is false\n",
    "  "
   ]
  },
  {
   "cell_type": "code",
   "execution_count": null,
   "id": "77416829-b2dd-4c79-99bd-26990a804fa7",
   "metadata": {},
   "outputs": [],
   "source": [
    "# What is type casting \n",
    "\"\"\"\n",
    "  Type casting in Python means converting a variable from one data type to another, It's also called type conversion.\n",
    "\n",
    "\n",
    "  "
   ]
  },
  {
   "cell_type": "code",
   "execution_count": null,
   "id": "2a3aef4e-75d4-4f9d-a427-8ae9071458d8",
   "metadata": {},
   "outputs": [],
   "source": [
    "# What is the difference between implicit and explicit type casting\n",
    "\"\"\"\n",
    "  1. Implicit type casting\n",
    "   Python automatically converts one data type to another when it's safe\n",
    "\n",
    "   2 Explicit type casting \n",
    "   you manually convert data types using functions like int(), str(), etc"
   ]
  },
  {
   "cell_type": "code",
   "execution_count": null,
   "id": "03d6e47a-f9e0-4517-ac02-1dc4a76fd9f9",
   "metadata": {},
   "outputs": [],
   "source": [
    "# What is the purpose of conditional statements in Python\n",
    "  \"\"\"\n",
    "    Is  to let your program make decsion and execute certain blocks of code only when specific conditions are met\n",
    "\n",
    "\n",
    "    \"\"\""
   ]
  },
  {
   "cell_type": "code",
   "execution_count": null,
   "id": "9259077d-3634-443e-8137-ea1a39671ded",
   "metadata": {},
   "outputs": [],
   "source": [
    "# how does the elif statement work?\n",
    "  \n",
    "\"\"\"\n",
    "  the elif statement in Python means \" else if\".\n",
    "  It allows  you to check  multiple conditions one by one after an initial \n",
    "  x =15\n",
    "   if x < 10:\n",
    "   print(\" less than 10\")\n",
    "   elif  x < 20: \n",
    "    print (\" Between 10 and 19 \")\n",
    "else :\n",
    "print (\"20 or more\")\n",
    "   "
   ]
  },
  {
   "cell_type": "code",
   "execution_count": null,
   "id": "2c2a8dd2-6fb7-4616-a279-f02efbf353a0",
   "metadata": {},
   "outputs": [],
   "source": [
    "# What is difference between for and while loops?\n",
    "\"\"\"\n",
    "1. for loop :\n",
    "  used when you know in advance how many times you want to loop.\n",
    "  iterates over a sequence like a list, string, or range.\n",
    "\n",
    "  for i in range (5):\n",
    "    print(i)"
   ]
  },
  {
   "cell_type": "code",
   "execution_count": null,
   "id": "1a4f258c-e2b8-4f32-bf1e-c72ac17fc6a5",
   "metadata": {},
   "outputs": [],
   "source": [
    "# Describe a scenario where a while loop is more suitable than a for loop.\n",
    "\n",
    "\"\"\"\n",
    "a while loop is more suitable when you don't know in  advance how many times the loop should run, and you want to repeat an action until a specific \n",
    "condition changes execution.\n",
    "While is better because:\n",
    " you don't know how many times the user will enter the wrong password.\n",
    " A for loop wouldn't work well unless you limit the number of tries (which changes the behavior).\n",
    " The while loop keeps going as long as the condition is true\n",
    " \n",
    "  "
   ]
  },
  {
   "cell_type": "code",
   "execution_count": null,
   "id": "03e3049c-9817-4b76-afd7-18c1cc0127d5",
   "metadata": {},
   "outputs": [],
   "source": [
    "\n",
    "\n",
    "\n",
    "#PRACTICAL QUESTIONS AND ANSWER\n",
    "\n",
    "\n"
   ]
  },
  {
   "cell_type": "code",
   "execution_count": null,
   "id": "a3a1436c-6373-495f-98bc-2bafc65d6699",
   "metadata": {},
   "outputs": [],
   "source": [
    "# WRITE PYTHON PROGRAMM TO WRITE PRINT \"HELLO WORLD\"\n",
    "\n"
   ]
  },
  {
   "cell_type": "code",
   "execution_count": 5,
   "id": "3328d805-f9e2-4a49-99c8-606723562fcc",
   "metadata": {},
   "outputs": [
    {
     "name": "stdout",
     "output_type": "stream",
     "text": [
      "HELLO WORLD\n"
     ]
    }
   ],
   "source": [
    "print (\"HELLO WORLD\")"
   ]
  },
  {
   "cell_type": "code",
   "execution_count": null,
   "id": "fa536167-155b-43d4-8fde-e7706d333db0",
   "metadata": {},
   "outputs": [],
   "source": []
  },
  {
   "cell_type": "code",
   "execution_count": null,
   "id": "b254b0c0-2d21-4ecd-ab40-93b0dcde861a",
   "metadata": {},
   "outputs": [],
   "source": [
    "#write python programm that diplay age and name \n"
   ]
  },
  {
   "cell_type": "code",
   "execution_count": 9,
   "id": "66ffac4c-dc0e-45c5-8618-44fccae2b1a8",
   "metadata": {},
   "outputs": [
    {
     "name": "stdout",
     "output_type": "stream",
     "text": [
      "my name is riya\n",
      " i am  29 years old\n"
     ]
    }
   ],
   "source": [
    "name = \"riya\"\n",
    "age = 29\n",
    "print (\"my name is\" ,name)\n",
    "print (\" i am \", 29,\"years old\")"
   ]
  },
  {
   "cell_type": "code",
   "execution_count": null,
   "id": "c1b049d3-ee30-4841-8bc5-0354ae629651",
   "metadata": {},
   "outputs": [],
   "source": [
    "#write code to print all the pre define keywords in pythone using the keyword library."
   ]
  },
  {
   "cell_type": "code",
   "execution_count": 17,
   "id": "788486c4-e0d6-4d8c-b617-b6e08e2fcfbb",
   "metadata": {},
   "outputs": [
    {
     "name": "stdout",
     "output_type": "stream",
     "text": [
      "['False', 'None', 'True', 'and', 'as', 'assert', 'async', 'await', 'break', 'class', 'continue', 'def', 'del', 'elif', 'else', 'except', 'finally', 'for', 'from', 'global', 'if', 'import', 'in', 'is', 'lambda', 'nonlocal', 'not', 'or', 'pass', 'raise', 'return', 'try', 'while', 'with', 'yield']\n"
     ]
    }
   ],
   "source": [
    "import keyword\n",
    "print(keyword.kwlist)"
   ]
  },
  {
   "cell_type": "code",
   "execution_count": null,
   "id": "c15e4545-9783-4c2c-9e2b-aca8c69dab37",
   "metadata": {},
   "outputs": [],
   "source": []
  },
  {
   "cell_type": "code",
   "execution_count": null,
   "id": "c50e355c-d2a4-40c1-b37a-a217fd1ba10e",
   "metadata": {},
   "outputs": [],
   "source": [
    "#write a program that checks if a given word is python keyword library"
   ]
  },
  {
   "cell_type": "code",
   "execution_count": 21,
   "id": "ff7d87f1-d898-4f15-bc98-9c2ca754a9a9",
   "metadata": {},
   "outputs": [
    {
     "name": "stdout",
     "output_type": "stream",
     "text": [
      "yes it is a python keyword\n"
     ]
    }
   ],
   "source": [
    "import keyword\n",
    "\n",
    "word = (\"while\")\n",
    "if keyword.iskeyword(word):\n",
    "    print(\"yes it is a python keyword\")\n",
    "else:\n",
    "    print(\"no\")"
   ]
  },
  {
   "cell_type": "code",
   "execution_count": null,
   "id": "ff06d66f-68b5-4d23-9684-686902ef38d0",
   "metadata": {},
   "outputs": [],
   "source": [
    "# create a list and tuple in python , and demonstrate how attempting to cahnge an element works differently for each "
   ]
  },
  {
   "cell_type": "code",
   "execution_count": 65,
   "id": "c744a7ea-1b39-4a1c-902e-01d8960a5d8d",
   "metadata": {},
   "outputs": [
    {
     "name": "stdout",
     "output_type": "stream",
     "text": [
      "modified list: [10, 99, 30]\n"
     ]
    }
   ],
   "source": [
    "\n",
    "  my_list = [10,20,30]\n",
    "  my_list[1] = 99\n",
    "  print (\"modified list:\",my_list)"
   ]
  },
  {
   "cell_type": "code",
   "execution_count": null,
   "id": "02e19b00-6087-4b02-9cd3-ca84735c0fc9",
   "metadata": {},
   "outputs": [],
   "source": [
    "#write a fucntion to demonstrate the behaviour of mutable and immutable arguments."
   ]
  },
  {
   "cell_type": "code",
   "execution_count": null,
   "id": "36548ead-bd18-4119-ae86-008587cbd1ea",
   "metadata": {},
   "outputs": [],
   "source": []
  },
  {
   "cell_type": "code",
   "execution_count": null,
   "id": "4f9c80b7-3370-4c04-a597-277c875ff716",
   "metadata": {},
   "outputs": [],
   "source": [
    "# Write a program that performs basic arithmetic operations on two user-input numbers"
   ]
  },
  {
   "cell_type": "code",
   "execution_count": 67,
   "id": "6be5df92-5570-466c-b810-5fd34d705767",
   "metadata": {},
   "outputs": [
    {
     "name": "stdin",
     "output_type": "stream",
     "text": [
      "enter first number: 2\n",
      "enter second number: 3\n"
     ]
    },
    {
     "name": "stdout",
     "output_type": "stream",
     "text": [
      "Addition: 5\n"
     ]
    }
   ],
   "source": [
    "a = int (input(\"enter first number:\"))\n",
    "b = int (input(\"enter second number:\"))\n",
    "print (\"Addition:\",a+b)"
   ]
  },
  {
   "cell_type": "code",
   "execution_count": null,
   "id": "c75d7f8c-e37e-4aaa-9761-f23b00a67b99",
   "metadata": {},
   "outputs": [],
   "source": [
    "# Write a program to demonstrate the use of logical operators."
   ]
  },
  {
   "cell_type": "code",
   "execution_count": 69,
   "id": "788bb773-0701-4136-b24e-54ef0eec3d22",
   "metadata": {},
   "outputs": [
    {
     "name": "stdout",
     "output_type": "stream",
     "text": [
      "True\n",
      "True\n",
      "False\n"
     ]
    }
   ],
   "source": [
    "a = 5 \n",
    "b = 10\n",
    "print( a > 0 and b > 0)\n",
    "print( a > 0 or b < 0)\n",
    "print (not (a > 0))"
   ]
  },
  {
   "cell_type": "code",
   "execution_count": null,
   "id": "1f89b0a1-c4ad-4da4-bd22-cfa438112a6f",
   "metadata": {},
   "outputs": [],
   "source": [
    "#9. Write a Python program to convert user input from string to integer, float, and boolean types?"
   ]
  },
  {
   "cell_type": "code",
   "execution_count": 73,
   "id": "5207fabc-c641-4a4e-a62f-7238134c3ded",
   "metadata": {},
   "outputs": [
    {
     "name": "stdin",
     "output_type": "stream",
     "text": [
      "enter something: 34\n"
     ]
    },
    {
     "name": "stdout",
     "output_type": "stream",
     "text": [
      "as integer: 34\n"
     ]
    }
   ],
   "source": [
    "value = input(\"enter something:\")\n",
    "print (\"as integer:\", int (value))\n"
   ]
  },
  {
   "cell_type": "code",
   "execution_count": null,
   "id": "dbe1d105-b192-4d8a-a6e1-eac06957d692",
   "metadata": {},
   "outputs": [],
   "source": [
    " 10. Write code to demonstrate type casting with list elements."
   ]
  },
  {
   "cell_type": "code",
   "execution_count": 87,
   "id": "ca7e04a9-3c1d-468c-b0bf-0b77255a3440",
   "metadata": {},
   "outputs": [
    {
     "name": "stdout",
     "output_type": "stream",
     "text": [
      "60\n"
     ]
    }
   ],
   "source": [
    "# List with string numbers\n",
    "str_list = ['10', '20', '30']\n",
    "\n",
    "# Convert to integers\n",
    "num1 = int(str_list[0])\n",
    "num2 = int(str_list[1])\n",
    "num3 = int(str_list[2])\n",
    "\n",
    "print(num1 + num2 + num3) "
   ]
  },
  {
   "cell_type": "code",
   "execution_count": null,
   "id": "29b18396-6089-4b0d-b39a-74575ac42d8f",
   "metadata": {},
   "outputs": [],
   "source": [
    "#11. Write a program that checks if a number is positive, negative, or zero"
   ]
  },
  {
   "cell_type": "code",
   "execution_count": 89,
   "id": "610a3c4f-8ff0-4bdf-8c48-14ceef83a4d2",
   "metadata": {},
   "outputs": [
    {
     "name": "stdin",
     "output_type": "stream",
     "text": [
      "Enter a number:  6\n"
     ]
    },
    {
     "name": "stdout",
     "output_type": "stream",
     "text": [
      "The number is positive.\n"
     ]
    }
   ],
   "source": [
    "# Get a number from the user\n",
    "num = float(input(\"Enter a number: \"))\n",
    "\n",
    "# Check and print the result\n",
    "if num > 0:\n",
    "    print(\"The number is positive.\")\n",
    "elif num < 0:\n",
    "    print(\"The number is negative.\")\n",
    "else:\n",
    "    print(\"The number is zero.\")"
   ]
  },
  {
   "cell_type": "code",
   "execution_count": null,
   "id": "56790ad9-d837-4fb9-b4af-4684c28afe5b",
   "metadata": {},
   "outputs": [],
   "source": [
    "12. Write a for loop to print numbers from 1 to 10.\n"
   ]
  },
  {
   "cell_type": "code",
   "execution_count": 91,
   "id": "df718607-9b8d-4f47-9c0e-5285b5ac5bf1",
   "metadata": {},
   "outputs": [
    {
     "name": "stdout",
     "output_type": "stream",
     "text": [
      "1\n",
      "2\n",
      "3\n",
      "4\n",
      "5\n",
      "6\n",
      "7\n",
      "8\n",
      "9\n",
      "10\n"
     ]
    }
   ],
   "source": [
    "for i in range(1,11):\n",
    "    print(i)"
   ]
  },
  {
   "cell_type": "code",
   "execution_count": null,
   "id": "97b77ac6-c644-49eb-a67d-409dd904fb68",
   "metadata": {},
   "outputs": [],
   "source": [
    " 13. Write a Python program to find the sum of all even numbers between 1 and 50"
   ]
  },
  {
   "cell_type": "code",
   "execution_count": 93,
   "id": "183551b7-4eef-412c-b201-6da6f540bd64",
   "metadata": {},
   "outputs": [
    {
     "name": "stdout",
     "output_type": "stream",
     "text": [
      "Sum of even numbers from 1 to 50 is: 650\n"
     ]
    }
   ],
   "source": [
    "sum_even = 0\n",
    "\n",
    "for i in range(1, 51):\n",
    "    if i % 2 == 0:\n",
    "        sum_even += i\n",
    "\n",
    "print(\"Sum of even numbers from 1 to 50 is:\", sum_even)"
   ]
  },
  {
   "cell_type": "code",
   "execution_count": null,
   "id": "ac946bc9-9765-48be-be43-87562437bb9f",
   "metadata": {},
   "outputs": [],
   "source": [
    "14. Write a program to reverse a string using a while loop.\n"
   ]
  },
  {
   "cell_type": "code",
   "execution_count": 95,
   "id": "d3359276-968b-478b-9f27-4a8014575208",
   "metadata": {},
   "outputs": [
    {
     "name": "stdin",
     "output_type": "stream",
     "text": [
      "Enter a string:  riya\n"
     ]
    },
    {
     "name": "stdout",
     "output_type": "stream",
     "text": [
      "Reversed string: ayir\n"
     ]
    }
   ],
   "source": [
    "# Take input from the user\n",
    "text = input(\"Enter a string: \")\n",
    "\n",
    "# Initialize variables\n",
    "reversed_text = \"\"\n",
    "index = len(text) - 1  # Start from the last character\n",
    "\n",
    "# Loop to reverse the string\n",
    "while index >= 0:\n",
    "    reversed_text += text[index]\n",
    "    index -= 1\n",
    "\n",
    "# Print the reversed string\n",
    "print(\"Reversed string:\", reversed_text)\n"
   ]
  },
  {
   "cell_type": "code",
   "execution_count": null,
   "id": "3b92019b-7295-4ab7-b6a7-dde3dbc54d59",
   "metadata": {},
   "outputs": [],
   "source": [
    "15. Write a Python program to calculate the factorial of a number provided by the user using a while loop"
   ]
  },
  {
   "cell_type": "code",
   "execution_count": null,
   "id": "0a2ef594-86ee-42a5-8d00-ad3c169f07ab",
   "metadata": {},
   "outputs": [],
   "source": [
    "# Take input from the user\n",
    "num = int(input(\"Enter a number: \"))\n",
    "\n",
    "# Initialize variables\n",
    "factorial = 1\n",
    "i = 1\n",
    "\n",
    "# Check if the number is non-negative\n",
    "if num < 0:\n",
    "    print(\"Factorial is not defined for negative numbers.\")\n",
    "else:\n",
    "    while i <= num:\n",
    "        factorial *= i\n",
    "        i += 1\n",
    "    print(\"Factorial of\", num, \"is:\", factorial)\n"
   ]
  },
  {
   "cell_type": "code",
   "execution_count": null,
   "id": "737b174d-2433-4e72-9312-94e60c1f5174",
   "metadata": {},
   "outputs": [],
   "source": []
  }
 ],
 "metadata": {
  "kernelspec": {
   "display_name": "Python [conda env:base] *",
   "language": "python",
   "name": "conda-base-py"
  },
  "language_info": {
   "codemirror_mode": {
    "name": "ipython",
    "version": 3
   },
   "file_extension": ".py",
   "mimetype": "text/x-python",
   "name": "python",
   "nbconvert_exporter": "python",
   "pygments_lexer": "ipython3",
   "version": "3.12.7"
  }
 },
 "nbformat": 4,
 "nbformat_minor": 5
}
